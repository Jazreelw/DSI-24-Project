{
 "cells": [
  {
   "cell_type": "markdown",
   "id": "3973dc7a",
   "metadata": {},
   "source": [
    "# Project 1: ACT/ SAT, 2017 and 2018\n",
    "\n",
    "### Problem statement\n",
    "\n",
    "As an employee of the College Board - the organization that administers the SAT - I have been tasked by the board on how can we increase low participation rates for certain States.\n",
    "\n",
    "---\n",
    "### Data Dictionary\n",
    "\n",
    "|Feature|Type|Dataset|Description|\n",
    "|---|---|---|---|\n",
    "|avg_act_year|float|ACT 2017 and 2018|The average of scores provided| \n",
    "|avg_sat_year|float|SAT 2017 and 2018|The average of scores provided| \n",
    "|tot_act_year|float|ACT 2017 and 2018|The total of scores provided| \n",
    "|tot_sat_year|integer|SAT 2017 and 2018|The total of scores provided| \n",
    "|p_act_year|float|ACT 2017 and 2018|The participation rate of relevant examinations, 100 = 100%| \n",
    "|p_sat_year|float|SAT 2017 and 2018|The participation rate of relevant examinations, 100 = 100%| \n",
    "\n",
    "---\n",
    "### Summary of analysis\n",
    "\n",
    "We started off in the first section of the notebook by data cleaning. Duplicates of rows and alphabet in a column where there should only contain numbers were found in the datasets. Further data cleaning were done to ensure that the columns that were not used on the analysis were removed and columns renamed appropriately.\n",
    "\n",
    "For ease of user's understanding of the data, 6 graphs were plotted to show the summary of contents in datasets, with focus on the SAT participation rates and also the average scores. \n",
    "\n",
    "---\n",
    "### Conclusions and recommendations\n",
    "\n",
    "Based on the findings in the notebook, there are quite a number of states that has participating rates of less than 20%. I have listed 3 recommendations below for increase of participation rates.\n",
    "\n",
    "For these States, if accessibility and traveling time was an issues, the Board can consider opening up more test centres so that they are more accessible for the students to take their examinations. This, along with the other recommendations below, should help to increase participation rates. \n",
    "\n",
    "The majority of States that has low participation rates are also the less wealthy States in America. To increase participation in these States, funding and subsidies can be provided for taking the examinations, if students are taking it for the first time. Besides examinations funding, further subsidies can also be provided, for example, University admissions costs.\n",
    "\n",
    "Also, the board can consider opening up more examination seatings in the year for students to retake the examinations if they are not satisfied with their fees.\n",
    "\n",
    "Implementing the recommendations above, we should expect to see an increament of SAT participation rates from going forward.\n",
    "\n",
    "Source of the above details on State wealth linked below:   \n",
    "https://www.safety.com/the-poorest-states-in-america/"
   ]
  },
  {
   "cell_type": "code",
   "execution_count": null,
   "id": "e363e90b",
   "metadata": {},
   "outputs": [],
   "source": []
  }
 ],
 "metadata": {
  "kernelspec": {
   "display_name": "Python 3",
   "language": "python",
   "name": "python3"
  },
  "language_info": {
   "codemirror_mode": {
    "name": "ipython",
    "version": 3
   },
   "file_extension": ".py",
   "mimetype": "text/x-python",
   "name": "python",
   "nbconvert_exporter": "python",
   "pygments_lexer": "ipython3",
   "version": "3.8.8"
  }
 },
 "nbformat": 4,
 "nbformat_minor": 5
}
